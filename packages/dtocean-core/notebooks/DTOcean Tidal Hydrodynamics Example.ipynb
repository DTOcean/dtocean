{
 "cells": [
  {
   "cell_type": "markdown",
   "metadata": {},
   "source": [
    "# DTOcean Tidal Hydrodynamics Example\n",
    "\n",
    "Note, this example assumes the Hydroynamics Module has been installed"
   ]
  },
  {
   "cell_type": "code",
   "execution_count": null,
   "metadata": {},
   "outputs": [],
   "source": [
    "%matplotlib inline"
   ]
  },
  {
   "cell_type": "code",
   "execution_count": null,
   "metadata": {},
   "outputs": [],
   "source": [
    "from IPython.display import display, HTML"
   ]
  },
  {
   "cell_type": "code",
   "execution_count": null,
   "metadata": {},
   "outputs": [],
   "source": [
    "import matplotlib.pyplot as plt\n",
    "plt.rcParams['figure.figsize'] = (14.0, 8.0)"
   ]
  },
  {
   "cell_type": "code",
   "execution_count": null,
   "metadata": {},
   "outputs": [],
   "source": [
    "import numpy as np"
   ]
  },
  {
   "cell_type": "code",
   "execution_count": null,
   "metadata": {},
   "outputs": [],
   "source": [
    "from dtocean_core import start_logging\n",
    "from dtocean_core.core import Core\n",
    "from dtocean_core.menu import DataMenu, ModuleMenu, ProjectMenu\n",
    "from dtocean_core.pipeline import Tree"
   ]
  },
  {
   "cell_type": "code",
   "execution_count": null,
   "metadata": {},
   "outputs": [],
   "source": [
    "def html_list(x):\n",
    "    message = \"<ul>\"\n",
    "    for name in x:\n",
    "        message += \"<li>{}</li>\".format(name)\n",
    "    message += \"</ul>\"\n",
    "    return message\n",
    "def html_dict(x):\n",
    "    message = \"<ul>\"\n",
    "    for name, status in x.iteritems():\n",
    "        message += \"<li>{}: <b>{}</b></li>\".format(name, status)\n",
    "    message += \"</ul>\"\n",
    "    return message"
   ]
  },
  {
   "cell_type": "code",
   "execution_count": null,
   "metadata": {},
   "outputs": [],
   "source": [
    "# Bring up the logger\n",
    "start_logging()"
   ]
  },
  {
   "cell_type": "markdown",
   "metadata": {},
   "source": [
    "## Create the core, menus and pipeline tree\n",
    "\n",
    "The core object carrys all the system information and is operated on by the other classes"
   ]
  },
  {
   "cell_type": "code",
   "execution_count": null,
   "metadata": {},
   "outputs": [],
   "source": [
    "new_core = Core()\n",
    "data_menu = DataMenu()\n",
    "project_menu = ProjectMenu()\n",
    "module_menu = ModuleMenu()\n",
    "pipe_tree = Tree()"
   ]
  },
  {
   "cell_type": "markdown",
   "metadata": {},
   "source": [
    "## Create a new project"
   ]
  },
  {
   "cell_type": "code",
   "execution_count": null,
   "metadata": {},
   "outputs": [],
   "source": [
    "project_title = \"DTOcean\"  \n",
    "new_project = project_menu.new_project(new_core, project_title)"
   ]
  },
  {
   "cell_type": "markdown",
   "metadata": {},
   "source": [
    "## Set the device type"
   ]
  },
  {
   "cell_type": "code",
   "execution_count": null,
   "metadata": {},
   "outputs": [],
   "source": [
    "options_branch = pipe_tree.get_branch(new_core, new_project, \"System Type Selection\")\n",
    "variable_id = \"device.system_type\"\n",
    "my_var = options_branch.get_input_variable(new_core, new_project, variable_id)\n",
    "my_var.set_raw_interface(new_core, \"Tidal Fixed\")\n",
    "my_var.read(new_core, new_project)"
   ]
  },
  {
   "cell_type": "markdown",
   "metadata": {},
   "source": [
    "## Initiate the pipeline\n",
    "This step will be important when the database is incorporated into the system as it will effect the operation of the pipeline."
   ]
  },
  {
   "cell_type": "code",
   "execution_count": null,
   "metadata": {},
   "outputs": [],
   "source": [
    "project_menu.initiate_pipeline(new_core, new_project)"
   ]
  },
  {
   "cell_type": "markdown",
   "metadata": {},
   "source": [
    "## Discover available modules"
   ]
  },
  {
   "cell_type": "code",
   "execution_count": null,
   "metadata": {},
   "outputs": [],
   "source": [
    "names = module_menu.get_available(new_core, new_project)\n",
    "message = html_list(names)\n",
    "HTML(message)"
   ]
  },
  {
   "cell_type": "markdown",
   "metadata": {},
   "source": [
    "## Activate a module\n",
    "\n",
    "Note that the order of activation is important and that we can't deactivate yet!"
   ]
  },
  {
   "cell_type": "code",
   "execution_count": null,
   "metadata": {},
   "outputs": [],
   "source": [
    "module_name = 'Hydrodynamics'\n",
    "module_menu.activate(new_core, new_project, module_name)\n",
    "hydro_branch = pipe_tree.get_branch(new_core, new_project, 'Hydrodynamics')"
   ]
  },
  {
   "cell_type": "markdown",
   "metadata": {},
   "source": [
    "## Check the status of the module inputs"
   ]
  },
  {
   "cell_type": "code",
   "execution_count": null,
   "metadata": {},
   "outputs": [],
   "source": [
    "input_status = hydro_branch.get_input_status(new_core, new_project)\n",
    "message = html_dict(input_status)\n",
    "HTML(message)"
   ]
  },
  {
   "cell_type": "markdown",
   "metadata": {},
   "source": [
    "## Initiate the dataflow\n",
    "This indicates that the filtering and module / theme selections are complete"
   ]
  },
  {
   "cell_type": "code",
   "execution_count": null,
   "metadata": {},
   "outputs": [],
   "source": [
    "project_menu.initiate_dataflow(new_core, new_project)"
   ]
  },
  {
   "cell_type": "markdown",
   "metadata": {},
   "source": [
    "## Move the system to the post-filter state and ready the system"
   ]
  },
  {
   "cell_type": "code",
   "execution_count": null,
   "metadata": {},
   "outputs": [],
   "source": [
    "new_core.inspect_level(new_project, \"modules initial\")\n",
    "new_core.reset_level(new_project, preserve_level=True)"
   ]
  },
  {
   "cell_type": "markdown",
   "metadata": {},
   "source": [
    "## Load test data"
   ]
  },
  {
   "cell_type": "markdown",
   "metadata": {},
   "source": [
    "Prepare the test data for loading. The files required can be found in the test_data directory of the source code and should be copied to the directory that the notebook is running. When the python file is run a pickle file is generated containing a dictionary of inputs."
   ]
  },
  {
   "cell_type": "code",
   "execution_count": null,
   "metadata": {},
   "outputs": [],
   "source": [
    "%run test_data/inputs_wp2_tidal.py"
   ]
  },
  {
   "cell_type": "code",
   "execution_count": null,
   "metadata": {},
   "outputs": [],
   "source": [
    "hydro_branch.read_test_data(new_core,\n",
    "                            new_project,\n",
    "                            \"test_data/inputs_wp2_tidal.pkl\")"
   ]
  },
  {
   "cell_type": "markdown",
   "metadata": {},
   "source": [
    "## Get a variable from the tree"
   ]
  },
  {
   "cell_type": "code",
   "execution_count": null,
   "metadata": {},
   "outputs": [],
   "source": [
    "variable_id = 'project.rated_power'\n",
    "my_var = hydro_branch.get_input_variable(new_core, new_project, variable_id)"
   ]
  },
  {
   "cell_type": "markdown",
   "metadata": {},
   "source": [
    "## Discover which interfaces can be used to enter the variable\n",
    "\n",
    "Each piece of data must be provided by one or many interfaces, be that raw input or from special file types."
   ]
  },
  {
   "cell_type": "code",
   "execution_count": null,
   "metadata": {},
   "outputs": [],
   "source": [
    "list_raw = my_var.get_raw_interfaces(new_core)\n",
    "message = html_list(list_raw)\n",
    "HTML(message)"
   ]
  },
  {
   "cell_type": "markdown",
   "metadata": {},
   "source": [
    "## Check that the variable has been entered correctly"
   ]
  },
  {
   "cell_type": "code",
   "execution_count": null,
   "metadata": {},
   "outputs": [],
   "source": [
    "variable_value = new_core.get_data_value(new_project, variable_id)\n",
    "display(variable_value)"
   ]
  },
  {
   "cell_type": "markdown",
   "metadata": {},
   "source": [
    "## Auto plot a variable "
   ]
  },
  {
   "cell_type": "code",
   "execution_count": null,
   "metadata": {},
   "outputs": [],
   "source": [
    "new_var = hydro_branch.get_input_variable(new_core,\n",
    "                                          new_project,\n",
    "                                          'device.turbine_performance')"
   ]
  },
  {
   "cell_type": "code",
   "execution_count": null,
   "metadata": {},
   "outputs": [],
   "source": [
    "new_var.plot(new_core, new_project)"
   ]
  },
  {
   "cell_type": "markdown",
   "metadata": {},
   "source": [
    "## Look for other available plots"
   ]
  },
  {
   "cell_type": "code",
   "execution_count": null,
   "metadata": {},
   "outputs": [],
   "source": [
    "plots = new_var.get_available_plots(new_core, new_project)\n",
    "msg = html_list(plots)\n",
    "HTML(msg)"
   ]
  },
  {
   "cell_type": "markdown",
   "metadata": {},
   "source": [
    "## Plot a specific plot"
   ]
  },
  {
   "cell_type": "code",
   "execution_count": null,
   "metadata": {},
   "outputs": [],
   "source": [
    "new_var.plot(new_core, new_project, 'Tidal Power Performance')"
   ]
  },
  {
   "cell_type": "markdown",
   "metadata": {},
   "source": [
    "## Check if the module can be executed"
   ]
  },
  {
   "cell_type": "code",
   "execution_count": null,
   "metadata": {},
   "outputs": [],
   "source": [
    "can_execute = module_menu.is_executable(new_core, new_project, module_name)\n",
    "display(can_execute)"
   ]
  },
  {
   "cell_type": "code",
   "execution_count": null,
   "metadata": {},
   "outputs": [],
   "source": [
    "input_status = hydro_branch.get_input_status(new_core, new_project)\n",
    "message = html_dict(input_status)\n",
    "HTML(message)"
   ]
  },
  {
   "cell_type": "markdown",
   "metadata": {},
   "source": [
    "## Execute the current module\n",
    "\n",
    "The \"current\" module refers to the next module to be executed in the chain (pipeline) of modules. This command will only execute that module and another will be used for executing all of the modules at once.\n",
    "\n",
    "Note, any data supplied by the module will be automatically copied into the active data state."
   ]
  },
  {
   "cell_type": "code",
   "execution_count": null,
   "metadata": {},
   "outputs": [],
   "source": [
    "module_menu.execute_current(new_core, new_project)"
   ]
  },
  {
   "cell_type": "markdown",
   "metadata": {},
   "source": [
    "## Examine the results\n",
    "\n",
    "Currently, there is no robustness built into the core, so the assumption is that the module executed successfully. This will have to be improved towards deployment of the final software.\n",
    "\n",
    "Let's check the number of devices and annual output of the farm, using just information in the data object."
   ]
  },
  {
   "cell_type": "code",
   "execution_count": null,
   "metadata": {},
   "outputs": [],
   "source": [
    "n_devices = new_core.get_data_value(new_project, \"project.number_of_devices\")\n",
    "meta = new_core.get_metadata(\"project.number_of_devices\")\n",
    "name = meta.title\n",
    "message_one = \"<p><b>{}:</b> {}</p>\".format(name, n_devices)\n",
    "\n",
    "farm_annual_energy = new_core.get_data_value(new_project, \"project.annual_energy\")\n",
    "meta = new_core.get_metadata(\"project.annual_energy\")\n",
    "name = meta.title\n",
    "value = farm_annual_energy\n",
    "units = meta.units[0]\n",
    "message_two = \"<p><b>{}:</b> <i>{}</i> ({})</p>\".format(name, value, units)\n",
    "\n",
    "HTML(message_one + message_two)"
   ]
  },
  {
   "cell_type": "markdown",
   "metadata": {},
   "source": [
    "## Plotting some graphs\n",
    "\n",
    "By having data objects with set formats it should be possible to create automated plot generation. However, some plots may be too complex and some special cases may need defined."
   ]
  },
  {
   "cell_type": "code",
   "execution_count": null,
   "metadata": {},
   "outputs": [],
   "source": [
    "mean_power_per_dev_value = new_core.get_data_value(new_project, \n",
    "                                                      \"project.mean_power_per_device\")\n",
    "meta = new_core.get_metadata(\"project.mean_power_per_device\")\n",
    "\n",
    "chart_values = np.array(mean_power_per_dev_value.values())"
   ]
  },
  {
   "cell_type": "code",
   "execution_count": null,
   "metadata": {},
   "outputs": [],
   "source": [
    "plt.bar(range(len(mean_power_per_dev_value)),\n",
    "        chart_values,\n",
    "        align='center')\n",
    "            \n",
    "plt.xticks(range(len(mean_power_per_dev_value)),\n",
    "          mean_power_per_dev_value.keys())\n",
    "plt.title(meta.title)\n",
    "\n",
    "plt.ylabel(meta.units[0])\n",
    "\n",
    "plt.tight_layout()\n",
    "# plt.savefig('annual_power_per_device.png')\n",
    "plt.show()"
   ]
  },
  {
   "cell_type": "markdown",
   "metadata": {},
   "source": [
    "## Plotting the Layout\n",
    "\n",
    "This may require such a special case. It is not clear is a new data type is required or just special plots associated to variable IDs."
   ]
  },
  {
   "cell_type": "code",
   "execution_count": null,
   "metadata": {},
   "outputs": [],
   "source": [
    "layout_value = new_core.get_data_value(new_project, \"project.layout\")\n",
    "layout_meta = new_core.get_metadata(\"project.layout\")"
   ]
  },
  {
   "cell_type": "code",
   "execution_count": null,
   "metadata": {
    "scrolled": false
   },
   "outputs": [],
   "source": [
    "x = []\n",
    "y = []\n",
    "\n",
    "for coords in layout_value.itervalues():\n",
    "    \n",
    "    x.append(coords.x)\n",
    "    y.append(coords.y)\n",
    "\n",
    "fig = plt.figure()\n",
    "ax1 = fig.add_subplot(1,1,1, axisbg='lightskyblue')\n",
    "ax1.plot(x,y,'k+', mew=2, markersize=10)\n",
    "plt.title(layout_meta.title)\n",
    "plt.axis('equal')\n",
    "plt.show()"
   ]
  },
  {
   "cell_type": "code",
   "execution_count": null,
   "metadata": {},
   "outputs": [],
   "source": [
    "pmf_values = new_core.get_data_value(new_project, \"project.mean_power_pmf_per_device\")\n",
    "display(pmf_values)"
   ]
  },
  {
   "cell_type": "code",
   "execution_count": null,
   "metadata": {},
   "outputs": [],
   "source": [
    "plt.plot(pmf_values[\"device001\"][:,0], pmf_values[\"device001\"][:,1], '+', mew=5, markersize=20)\n",
    "plt.tight_layout()\n",
    "plt.show()"
   ]
  },
  {
   "cell_type": "code",
   "execution_count": null,
   "metadata": {},
   "outputs": [],
   "source": [
    "tidal_occurance = new_core.get_data_value(new_project, \"farm.tidal_occurrence\")"
   ]
  },
  {
   "cell_type": "code",
   "execution_count": null,
   "metadata": {},
   "outputs": [],
   "source": [
    "print tidal_occurance.p.values"
   ]
  },
  {
   "cell_type": "code",
   "execution_count": null,
   "metadata": {},
   "outputs": [],
   "source": [
    "plt.quiver(tidal_occurance[\"U\"].values[:,:,1],\n",
    "           tidal_occurance[\"V\"].values[:,:,1])\n",
    "plt.show()"
   ]
  },
  {
   "cell_type": "code",
   "execution_count": null,
   "metadata": {},
   "outputs": [],
   "source": [
    "hist_values = new_core.get_data_value(new_project, \"project.mean_power_hist_per_device\")"
   ]
  },
  {
   "cell_type": "code",
   "execution_count": null,
   "metadata": {},
   "outputs": [],
   "source": [
    "plot_bins = hist_values[\"device001\"]['bins']\n",
    "plot_values = hist_values[\"device001\"]['values']\n",
    "\n",
    "_ = plt.bar(plot_bins[:-1], plot_values, width=plot_bins[1:] - plot_bins[:-1])\n",
    "plt.show()"
   ]
  },
  {
   "cell_type": "code",
   "execution_count": null,
   "metadata": {},
   "outputs": [],
   "source": []
  }
 ],
 "metadata": {
  "kernelspec": {
   "display_name": "Python 2",
   "language": "python",
   "name": "python2"
  },
  "language_info": {
   "codemirror_mode": {
    "name": "ipython",
    "version": 2
   },
   "file_extension": ".py",
   "mimetype": "text/x-python",
   "name": "python",
   "nbconvert_exporter": "python",
   "pygments_lexer": "ipython2",
   "version": "2.7.15"
  }
 },
 "nbformat": 4,
 "nbformat_minor": 1
}

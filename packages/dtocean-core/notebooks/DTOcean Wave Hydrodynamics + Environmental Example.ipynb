{
 "cells": [
  {
   "cell_type": "markdown",
   "metadata": {},
   "source": [
    "# DTOcean Wave Hydrodynamics + Environmental Impact Example\n",
    "\n",
    "Note, this example assumes the Hydrodynamics and Environmental modules has been installed"
   ]
  },
  {
   "cell_type": "code",
   "execution_count": null,
   "metadata": {},
   "outputs": [],
   "source": [
    "%matplotlib inline"
   ]
  },
  {
   "cell_type": "code",
   "execution_count": null,
   "metadata": {},
   "outputs": [],
   "source": [
    "from IPython.display import display, HTML"
   ]
  },
  {
   "cell_type": "code",
   "execution_count": null,
   "metadata": {},
   "outputs": [],
   "source": [
    "import matplotlib.pyplot as plt\n",
    "plt.rcParams['figure.figsize'] = (14.0, 8.0)"
   ]
  },
  {
   "cell_type": "code",
   "execution_count": null,
   "metadata": {},
   "outputs": [],
   "source": [
    "import numpy as np"
   ]
  },
  {
   "cell_type": "code",
   "execution_count": null,
   "metadata": {},
   "outputs": [],
   "source": [
    "from dtocean_core import start_logging\n",
    "from dtocean_core.core import Core\n",
    "from dtocean_core.menu import ModuleMenu, ProjectMenu, ThemeMenu\n",
    "from dtocean_core.pipeline import Tree"
   ]
  },
  {
   "cell_type": "code",
   "execution_count": null,
   "metadata": {},
   "outputs": [],
   "source": [
    "def html_list(x):\n",
    "    message = \"<ul>\"\n",
    "    for name in x:\n",
    "        message += \"<li>{}</li>\".format(name)\n",
    "    message += \"</ul>\"\n",
    "    return message\n",
    "def html_dict(x):\n",
    "    message = \"<ul>\"\n",
    "    for name, status in x.iteritems():\n",
    "        message += \"<li>{}: <b>{}</b></li>\".format(name, status)\n",
    "    message += \"</ul>\"\n",
    "    return message"
   ]
  },
  {
   "cell_type": "code",
   "execution_count": null,
   "metadata": {},
   "outputs": [],
   "source": [
    "# Bring up the logger\n",
    "start_logging()"
   ]
  },
  {
   "cell_type": "markdown",
   "metadata": {},
   "source": [
    "## Create the core, menus and pipeline tree\n",
    "\n",
    "The core object carrys all the system information and is operated on by the other classes"
   ]
  },
  {
   "cell_type": "code",
   "execution_count": null,
   "metadata": {},
   "outputs": [],
   "source": [
    "new_core = Core()\n",
    "project_menu = ProjectMenu()\n",
    "module_menu = ModuleMenu()\n",
    "theme_menu = ThemeMenu()\n",
    "pipe_tree = Tree()"
   ]
  },
  {
   "cell_type": "markdown",
   "metadata": {},
   "source": [
    "## Create a new project"
   ]
  },
  {
   "cell_type": "code",
   "execution_count": null,
   "metadata": {},
   "outputs": [],
   "source": [
    "project_title = \"DTOcean\"  \n",
    "new_project = project_menu.new_project(new_core, project_title)"
   ]
  },
  {
   "cell_type": "markdown",
   "metadata": {},
   "source": [
    "## Set the device type"
   ]
  },
  {
   "cell_type": "code",
   "execution_count": null,
   "metadata": {},
   "outputs": [],
   "source": [
    "options_branch = pipe_tree.get_branch(new_core, new_project, \"System Type Selection\")\n",
    "variable_id = \"device.system_type\"\n",
    "my_var = options_branch.get_input_variable(new_core, new_project, variable_id)\n",
    "my_var.set_raw_interface(new_core, \"Wave Floating\")\n",
    "my_var.read(new_core, new_project)"
   ]
  },
  {
   "cell_type": "markdown",
   "metadata": {},
   "source": [
    "## Initiate the pipeline\n",
    "This step will be important when the database is incorporated into the system as it will effect the operation of the pipeline."
   ]
  },
  {
   "cell_type": "code",
   "execution_count": null,
   "metadata": {},
   "outputs": [],
   "source": [
    "project_menu.initiate_pipeline(new_core, new_project)"
   ]
  },
  {
   "cell_type": "markdown",
   "metadata": {},
   "source": [
    "## Discover available modules and themes"
   ]
  },
  {
   "cell_type": "code",
   "execution_count": null,
   "metadata": {},
   "outputs": [],
   "source": [
    "names_modules = module_menu.get_available(new_core, new_project)\n",
    "message1 = html_list(names_modules)\n",
    "HTML(message1)"
   ]
  },
  {
   "cell_type": "code",
   "execution_count": null,
   "metadata": {},
   "outputs": [],
   "source": [
    "names_themes = theme_menu.get_available(new_core, new_project)\n",
    "message2= html_list(names_themes)\n",
    "HTML(message2)"
   ]
  },
  {
   "cell_type": "markdown",
   "metadata": {},
   "source": [
    "## Activate a module and a Theme\n",
    "\n",
    "Note that the order of activation is important and that we can't deactivate yet!"
   ]
  },
  {
   "cell_type": "code",
   "execution_count": null,
   "metadata": {},
   "outputs": [],
   "source": [
    "module_name = 'Hydrodynamics'\n",
    "module_menu.activate(new_core, new_project, module_name)\n",
    "theme_name = 'Environmental Impact Assessment (Experimental)'\n",
    "theme_menu.activate(new_core, new_project, theme_name)"
   ]
  },
  {
   "cell_type": "markdown",
   "metadata": {},
   "source": [
    "## Check the status of the module and theme inputs"
   ]
  },
  {
   "cell_type": "code",
   "execution_count": null,
   "metadata": {},
   "outputs": [],
   "source": [
    "hydro_branch = pipe_tree.get_branch(new_core, new_project, 'Hydrodynamics')\n",
    "input_status = hydro_branch.get_input_status(new_core, new_project)\n",
    "message = html_dict(input_status)\n",
    "HTML(message)"
   ]
  },
  {
   "cell_type": "code",
   "execution_count": null,
   "metadata": {},
   "outputs": [],
   "source": [
    "environmental_branch = pipe_tree.get_branch(new_core, new_project, 'Environmental Impact Assessment (Experimental)')\n",
    "input_status = environmental_branch.get_input_status(new_core, new_project)\n",
    "message = html_dict(input_status)\n",
    "HTML(message)"
   ]
  },
  {
   "cell_type": "markdown",
   "metadata": {},
   "source": [
    "## Initiate the dataflow\n",
    "This indicates that the filtering and module / theme selections are complete"
   ]
  },
  {
   "cell_type": "code",
   "execution_count": null,
   "metadata": {},
   "outputs": [],
   "source": [
    "project_menu.initiate_dataflow(new_core, new_project)"
   ]
  },
  {
   "cell_type": "markdown",
   "metadata": {},
   "source": [
    "## Load test data"
   ]
  },
  {
   "cell_type": "markdown",
   "metadata": {},
   "source": [
    "Prepare the test data for loading. The files required can be found in the test_data directory of the source code and should be copied to the directory that the notebook is running. When the python file is run a pickle file is generated containing a dictionary of inputs."
   ]
  },
  {
   "cell_type": "code",
   "execution_count": null,
   "metadata": {},
   "outputs": [],
   "source": [
    "%run test_data/inputs_wp2_wave.py"
   ]
  },
  {
   "cell_type": "code",
   "execution_count": null,
   "metadata": {},
   "outputs": [],
   "source": [
    "hydro_branch.read_test_data(new_core,\n",
    "                            new_project,\n",
    "                            \"test_data/inputs_wp2_wave.pkl\")"
   ]
  },
  {
   "cell_type": "code",
   "execution_count": null,
   "metadata": {},
   "outputs": [],
   "source": [
    "%run test_data/inputs_environmental.py"
   ]
  },
  {
   "cell_type": "code",
   "execution_count": null,
   "metadata": {},
   "outputs": [],
   "source": [
    "environmental_branch.read_test_data(new_core,\n",
    "                            new_project,\n",
    "                            \"test_data/inputs_environmental.pkl\")"
   ]
  },
  {
   "cell_type": "markdown",
   "metadata": {},
   "source": [
    "## Use the interface to enter the variable value\n",
    "\n",
    "The interface must be \"set\" (entering the data) and then \"connected\" (moving the data into the data state)"
   ]
  },
  {
   "cell_type": "code",
   "execution_count": null,
   "metadata": {},
   "outputs": [],
   "source": [
    "plant_rated_power = 100.\n",
    "variable_id = \"project.rated_power\"\n",
    "my_var = hydro_branch.get_input_variable(new_core, new_project, variable_id)\n",
    "\n",
    "my_var.set_raw_interface(new_core, plant_rated_power)\n",
    "my_var.read(new_core, new_project)"
   ]
  },
  {
   "cell_type": "markdown",
   "metadata": {},
   "source": [
    "## Check if the module can be executed"
   ]
  },
  {
   "cell_type": "code",
   "execution_count": null,
   "metadata": {},
   "outputs": [],
   "source": [
    "can_execute = module_menu.is_executable(new_core, new_project, module_name)\n",
    "display(can_execute)"
   ]
  },
  {
   "cell_type": "code",
   "execution_count": null,
   "metadata": {},
   "outputs": [],
   "source": [
    "can_execute_theme = theme_menu.is_executable(new_core, new_project, theme_name)\n",
    "display(can_execute_theme)"
   ]
  },
  {
   "cell_type": "code",
   "execution_count": null,
   "metadata": {},
   "outputs": [],
   "source": [
    "input_status = hydro_branch.get_input_status(new_core, new_project)\n",
    "message = html_dict(input_status)\n",
    "HTML(message)"
   ]
  },
  {
   "cell_type": "code",
   "execution_count": null,
   "metadata": {},
   "outputs": [],
   "source": [
    "input_status = environmental_branch.get_input_status(new_core, new_project)\n",
    "message = html_dict(input_status)\n",
    "HTML(message)"
   ]
  },
  {
   "cell_type": "markdown",
   "metadata": {},
   "source": [
    "## Execute the current module\n",
    "\n",
    "The \"current\" module refers to the next module to be executed in the chain (pipeline) of modules. This command will only execute that module and another will be used for executing all of the modules at once.\n",
    "\n",
    "Note, any data supplied by the module will be automatically copied into the active data state."
   ]
  },
  {
   "cell_type": "code",
   "execution_count": null,
   "metadata": {},
   "outputs": [],
   "source": [
    "module_menu.execute_current(new_core, new_project)"
   ]
  },
  {
   "cell_type": "markdown",
   "metadata": {},
   "source": [
    "## Examine the results\n",
    "\n",
    "Currently, there is no robustness built into the core, so the assumption is that the module executed successfully. This will have to be improved towards deployment of the final software.\n",
    "\n",
    "Let's check the number of devices and annual output of the farm, using just information in the data object."
   ]
  },
  {
   "cell_type": "code",
   "execution_count": null,
   "metadata": {},
   "outputs": [],
   "source": [
    "global_eis = new_core.get_data_value(new_project, \"project.global_eis\")\n",
    "meta = new_core.get_metadata(\"project.global_eis\")\n",
    "name = meta.title\n",
    "message_one = \"<p><b>{}:</b> {}</p>\".format(name, global_eis)\n",
    "\n",
    "\n",
    "HTML(message_one)"
   ]
  },
  {
   "cell_type": "markdown",
   "metadata": {},
   "source": [
    "## Plotting some graphs\n",
    "\n",
    "By having data objects with set formats it should be possible to create automated plot generation. However, some plots may be too complex and some special cases may need defined."
   ]
  },
  {
   "cell_type": "code",
   "execution_count": null,
   "metadata": {},
   "outputs": [],
   "source": [
    "annual_energy_per_dev_value = new_core.get_data_value(new_project, \n",
    "                                                     \"project.annual_energy_per_device\")\n",
    "meta = new_core.get_metadata(\"project.annual_energy_per_device\")\n",
    "\n",
    "chart_values = np.array(annual_energy_per_dev_value.values())"
   ]
  },
  {
   "cell_type": "code",
   "execution_count": null,
   "metadata": {},
   "outputs": [],
   "source": [
    "plt.bar(range(len(annual_energy_per_dev_value)),\n",
    "        chart_values,\n",
    "        align='center')\n",
    "            \n",
    "plt.xticks(range(len(annual_energy_per_dev_value)),\n",
    "           annual_energy_per_dev_value.keys())\n",
    "plt.title(meta.title)\n",
    "\n",
    "plt.ylabel(meta.units[0])\n",
    "\n",
    "plt.tight_layout()\n",
    "# plt.savefig('annual_energy_per_device.png')\n",
    "plt.show()"
   ]
  },
  {
   "cell_type": "markdown",
   "metadata": {},
   "source": [
    "## Plotting the Layout\n",
    "\n",
    "This may require such a special case. It is not clear is a new data type is required or just special plots associated to variable IDs."
   ]
  },
  {
   "cell_type": "code",
   "execution_count": null,
   "metadata": {},
   "outputs": [],
   "source": [
    "layout_value = new_core.get_data_value(new_project, \"project.layout\")\n",
    "layout_meta = new_core.get_metadata(\"project.layout\")"
   ]
  },
  {
   "cell_type": "code",
   "execution_count": null,
   "metadata": {
    "scrolled": false
   },
   "outputs": [],
   "source": [
    "x = []\n",
    "y = []\n",
    "\n",
    "for coords in layout_value.itervalues():\n",
    "    \n",
    "    x.append(coords.x)\n",
    "    y.append(coords.y)\n",
    "\n",
    "fig = plt.figure()\n",
    "ax1 = fig.add_subplot(1,1,1, axisbg='lightskyblue')\n",
    "ax1.plot(x,y,'k+', mew=2, markersize=10)\n",
    "plt.title(layout_meta.title)\n",
    "plt.axis('equal')\n",
    "plt.show()"
   ]
  },
  {
   "cell_type": "code",
   "execution_count": null,
   "metadata": {},
   "outputs": [],
   "source": []
  }
 ],
 "metadata": {
  "kernelspec": {
   "display_name": "Python 2",
   "language": "python",
   "name": "python2"
  },
  "language_info": {
   "codemirror_mode": {
    "name": "ipython",
    "version": 2
   },
   "file_extension": ".py",
   "mimetype": "text/x-python",
   "name": "python",
   "nbconvert_exporter": "python",
   "pygments_lexer": "ipython2",
   "version": "2.7.15"
  }
 },
 "nbformat": 4,
 "nbformat_minor": 1
}

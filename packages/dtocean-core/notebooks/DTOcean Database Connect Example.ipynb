{
 "cells": [
  {
   "cell_type": "markdown",
   "metadata": {},
   "source": [
    "# DTOcean Database Connect Example\n",
    "\n",
    "Note, this example assumes the DTOcean database has been installed"
   ]
  },
  {
   "cell_type": "code",
   "execution_count": 1,
   "metadata": {},
   "outputs": [],
   "source": [
    "from IPython.display import HTML"
   ]
  },
  {
   "cell_type": "code",
   "execution_count": 3,
   "metadata": {},
   "outputs": [],
   "source": [
    "from dtocean_core import start_logging\n",
    "from dtocean_core.core import Core\n",
    "from dtocean_core.menu import DataMenu, ModuleMenu, ProjectMenu\n",
    "from dtocean_core.pipeline import Tree"
   ]
  },
  {
   "cell_type": "code",
   "execution_count": 4,
   "metadata": {},
   "outputs": [],
   "source": [
    "def html_list(x):\n",
    "    message = \"<ul>\"\n",
    "    for name in x:\n",
    "        message += \"<li>{}</li>\".format(name)\n",
    "    message += \"</ul>\"\n",
    "    return message\n",
    "def html_dict(x):\n",
    "    message = \"<ul>\"\n",
    "    for name, status in x.items():\n",
    "        message += \"<li>{}: <b>{}</b></li>\".format(name, status)\n",
    "    message += \"</ul>\"\n",
    "    return message"
   ]
  },
  {
   "cell_type": "code",
   "execution_count": 5,
   "metadata": {},
   "outputs": [
    {
     "name": "stdout",
     "output_type": "stream",
     "text": [
      "2025-03-13 15:54:27,460 - INFO - dtocean_core - Begin logging for dtocean_core\n"
     ]
    }
   ],
   "source": [
    "# Bring up the logger\n",
    "start_logging()"
   ]
  },
  {
   "cell_type": "markdown",
   "metadata": {},
   "source": [
    "## Create the core, menus and pipeline tree\n",
    "\n",
    "The core object carrys all the system information and is operated on by the other classes"
   ]
  },
  {
   "cell_type": "code",
   "execution_count": 6,
   "metadata": {},
   "outputs": [],
   "source": [
    "new_core = Core()\n",
    "data_menu = DataMenu()\n",
    "project_menu = ProjectMenu()\n",
    "module_menu = ModuleMenu()\n",
    "pipe_tree = Tree()"
   ]
  },
  {
   "cell_type": "markdown",
   "metadata": {},
   "source": [
    "## Create a new project"
   ]
  },
  {
   "cell_type": "code",
   "execution_count": 7,
   "metadata": {},
   "outputs": [
    {
     "name": "stdout",
     "output_type": "stream",
     "text": [
      "2025-03-13 15:54:31,911 - INFO - mdo_engine.entity.simulation - Created new Simulation with title \"Default\"\n",
      "2025-03-13 15:54:31,911 - INFO - mdo_engine.control.simulation - Datastate with level \"initial\" stored\n",
      "2025-03-13 15:54:31,911 - INFO - mdo_engine.control.pipeline - New Hub created for interface ProjectInterface.\n"
     ]
    }
   ],
   "source": [
    "project_title = \"DTOcean\"  \n",
    "new_project = project_menu.new_project(new_core, project_title)"
   ]
  },
  {
   "cell_type": "markdown",
   "metadata": {},
   "source": [
    "## Connect a database"
   ]
  },
  {
   "cell_type": "code",
   "execution_count": 8,
   "metadata": {},
   "outputs": [],
   "source": [
    "credentials = {\"host\": \"localhost\",\n",
    "               \"port\": 5433,\n",
    "               \"dbname\": \"dtocean_examples\",\n",
    "               \"user\": \"dtocean_user\",\n",
    "               \"pwd\": \"test\"} # Fill in password\n",
    "\n",
    "data_menu.select_database(new_project, credentials=credentials)"
   ]
  },
  {
   "cell_type": "markdown",
   "metadata": {},
   "source": [
    "## Set the device type"
   ]
  },
  {
   "cell_type": "code",
   "execution_count": 9,
   "metadata": {},
   "outputs": [
    {
     "name": "stdout",
     "output_type": "stream",
     "text": [
      "2025-03-13 15:54:31,932 - INFO - mdo_engine.control.data - New \"device.system_type\" data stored with index 5RSZPG\n",
      "2025-03-13 15:54:31,932 - INFO - mdo_engine.control.simulation - Datastate stored\n",
      "2025-03-13 15:54:31,933 - INFO - dtocean_core.core - Data added for identifier 'device.system_type'\n"
     ]
    }
   ],
   "source": [
    "options_branch = pipe_tree.get_branch(new_core, new_project, \"System Type Selection\")\n",
    "variable_id = \"device.system_type\"\n",
    "my_var = options_branch.get_input_variable(new_core, new_project, variable_id)\n",
    "my_var.set_raw_interface(new_core, \"Tidal Fixed\")\n",
    "my_var.read(new_core, new_project)"
   ]
  },
  {
   "cell_type": "markdown",
   "metadata": {},
   "source": [
    "## Initiate the pipeline\n",
    "This step will be important when the database is incorporated into the system as it will effect the operation of the pipeline."
   ]
  },
  {
   "cell_type": "code",
   "execution_count": 10,
   "metadata": {},
   "outputs": [
    {
     "name": "stdout",
     "output_type": "stream",
     "text": [
      "2025-03-13 15:54:31,938 - INFO - mdo_engine.control.simulation - Datastate with level \"system type selection start\" stored\n",
      "2025-03-13 15:54:31,940 - INFO - mdo_engine.control.data - New \"hidden.pipeline_active\" data stored with index 479OCJ\n",
      "2025-03-13 15:54:31,940 - INFO - mdo_engine.control.simulation - Datastate stored\n",
      "2025-03-13 15:54:31,940 - INFO - dtocean_core.core - Data added for identifier 'hidden.pipeline_active'\n",
      "2025-03-13 15:54:31,940 - INFO - mdo_engine.control.pipeline - New Pipeline created for interface ModuleInterface.\n",
      "2025-03-13 15:54:31,940 - INFO - mdo_engine.control.pipeline - New Hub created for interface ThemeInterface.\n",
      "2025-03-13 15:54:32,660 - INFO - mdo_engine.control.data - New \"hidden.landing_points\" data stored with index WYICC4\n",
      "2025-03-13 15:54:32,660 - INFO - mdo_engine.control.data - New \"hidden.site_boundaries\" data stored with index PEJGLD\n",
      "2025-03-13 15:54:32,660 - INFO - mdo_engine.control.data - New \"hidden.lease_boundaries\" data stored with index MSR2UB\n",
      "2025-03-13 15:54:32,660 - INFO - mdo_engine.control.data - New \"hidden.corridor_boundaries\" data stored with index XQDHU8\n",
      "2025-03-13 15:54:32,676 - INFO - mdo_engine.control.data - New \"hidden.available_systems\" data stored with index 0OZCC7\n",
      "2025-03-13 15:54:32,676 - INFO - mdo_engine.control.data - New \"hidden.available_sites\" data stored with index 1AY44M\n",
      "2025-03-13 15:54:32,676 - INFO - mdo_engine.control.simulation - Datastate stored\n",
      "2025-03-13 15:54:32,676 - INFO - dtocean_core.core - Data added for identifiers:\n",
      "    hidden.landing_points\n",
      "    hidden.site_boundaries\n",
      "    hidden.lease_boundaries\n",
      "    hidden.corridor_boundaries\n",
      "    hidden.available_systems\n",
      "    hidden.available_sites\n"
     ]
    }
   ],
   "source": [
    "project_menu.initiate_pipeline(new_core, new_project)"
   ]
  },
  {
   "cell_type": "markdown",
   "metadata": {},
   "source": [
    "## Retrieve the available site and technology options from the DB"
   ]
  },
  {
   "cell_type": "code",
   "execution_count": 11,
   "metadata": {},
   "outputs": [
    {
     "name": "stdout",
     "output_type": "stream",
     "text": [
      "2025-03-13 15:54:32,681 - INFO - mdo_engine.control.simulation - Datastate with level \"site and system options start\" stored\n",
      "2025-03-13 15:54:32,688 - INFO - mdo_engine.control.data - New \"device.available_names\" data stored with index Z8LBNF\n",
      "2025-03-13 15:54:32,688 - INFO - mdo_engine.control.data - New \"site.available_names\" data stored with index DZBM7U\n",
      "2025-03-13 15:54:32,688 - INFO - mdo_engine.control.data - New \"hidden.corridor_selected\" data stored with index Z6MO2Z\n",
      "2025-03-13 15:54:32,688 - INFO - mdo_engine.control.data - New \"hidden.lease_selected\" data stored with index 51Z4DZ\n",
      "2025-03-13 15:54:32,688 - INFO - mdo_engine.control.simulation - Datastate stored\n",
      "2025-03-13 15:54:32,691 - INFO - dtocean_core.core - Data added for identifiers:\n",
      "    device.available_names\n",
      "    site.available_names\n",
      "    hidden.corridor_selected\n",
      "    hidden.lease_selected\n"
     ]
    }
   ],
   "source": [
    "project_menu.initiate_options(new_core, new_project)"
   ]
  },
  {
   "cell_type": "code",
   "execution_count": 12,
   "metadata": {},
   "outputs": [
    {
     "data": {
      "text/html": [
       "<ul><li>device.system_type: <b>unavailable</b></li><li>hidden.available_sites: <b>unavailable</b></li><li>hidden.available_systems: <b>unavailable</b></li><li>hidden.corridor_boundaries: <b>unavailable</b></li><li>hidden.lease_boundaries: <b>unavailable</b></li><li>hidden.site_boundaries: <b>unavailable</b></li><li>hidden.landing_points: <b>unavailable</b></li></ul>"
      ],
      "text/plain": [
       "<IPython.core.display.HTML object>"
      ]
     },
     "execution_count": 12,
     "metadata": {},
     "output_type": "execute_result"
    }
   ],
   "source": [
    "options_branch = pipe_tree.get_branch(new_core, new_project, 'Site and System Options')\n",
    "options_branch.read_auto(new_core, new_project)\n",
    "input_status = options_branch.get_input_status(new_core, new_project)\n",
    "message = html_dict(input_status)\n",
    "HTML(message)"
   ]
  },
  {
   "cell_type": "markdown",
   "metadata": {},
   "source": [
    "## Check available device names"
   ]
  },
  {
   "cell_type": "code",
   "execution_count": 13,
   "metadata": {},
   "outputs": [
    {
     "data": {
      "text/html": [
       "<ul><li>Example Tidal Device</li></ul>"
      ],
      "text/plain": [
       "<IPython.core.display.HTML object>"
      ]
     },
     "execution_count": 13,
     "metadata": {},
     "output_type": "execute_result"
    }
   ],
   "source": [
    "my_var = options_branch.get_output_variable(new_core, new_project, \"device.available_names\")\n",
    "site_list = my_var.get_value(new_core, new_project)\n",
    "msg = html_list(site_list)\n",
    "HTML(msg)"
   ]
  },
  {
   "cell_type": "code",
   "execution_count": null,
   "metadata": {},
   "outputs": [],
   "source": []
  }
 ],
 "metadata": {
  "kernelspec": {
   "display_name": "Python 3 (ipykernel)",
   "language": "python",
   "name": "python3"
  },
  "language_info": {
   "codemirror_mode": {
    "name": "ipython",
    "version": 3
   },
   "file_extension": ".py",
   "mimetype": "text/x-python",
   "name": "python",
   "nbconvert_exporter": "python",
   "pygments_lexer": "ipython3",
   "version": "3.12.9"
  }
 },
 "nbformat": 4,
 "nbformat_minor": 4
}

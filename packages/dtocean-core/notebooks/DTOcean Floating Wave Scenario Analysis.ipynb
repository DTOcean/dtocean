{
 "cells": [
  {
   "cell_type": "markdown",
   "metadata": {
    "collapsed": true
   },
   "source": [
    "# Floating Wave Scenario Analysis"
   ]
  },
  {
   "cell_type": "code",
   "execution_count": null,
   "metadata": {},
   "outputs": [],
   "source": [
    "%matplotlib inline"
   ]
  },
  {
   "cell_type": "code",
   "execution_count": null,
   "metadata": {},
   "outputs": [],
   "source": [
    "from IPython.display import display, HTML"
   ]
  },
  {
   "cell_type": "code",
   "execution_count": null,
   "metadata": {},
   "outputs": [],
   "source": [
    "import matplotlib.pyplot as plt\n",
    "plt.rcParams['figure.figsize'] = (14.0, 8.0)"
   ]
  },
  {
   "cell_type": "code",
   "execution_count": null,
   "metadata": {},
   "outputs": [],
   "source": [
    "import numpy as np\n",
    "from datetime import datetime"
   ]
  },
  {
   "cell_type": "code",
   "execution_count": null,
   "metadata": {},
   "outputs": [],
   "source": [
    "from dtocean_core import start_logging\n",
    "from dtocean_core.core import Core\n",
    "from dtocean_core.menu import DataMenu, ModuleMenu, ProjectMenu, ThemeMenu\n",
    "from dtocean_core.pipeline import Tree, _get_connector\n",
    "from dtocean_core.extensions import StrategyManager"
   ]
  },
  {
   "cell_type": "code",
   "execution_count": null,
   "metadata": {},
   "outputs": [],
   "source": [
    "# Bring up the logger\n",
    "start_logging()"
   ]
  },
  {
   "cell_type": "code",
   "execution_count": null,
   "metadata": {},
   "outputs": [],
   "source": [
    "def html_list(x):\n",
    "    message = \"<ul>\"\n",
    "    for name in x:\n",
    "        message += \"<li>{}</li>\".format(name)\n",
    "    message += \"</ul>\"\n",
    "    return message\n",
    "def html_dict(x):\n",
    "    message = \"<ul>\"\n",
    "    for name, status in x.iteritems():\n",
    "        message += \"<li>{}: <b>{}</b></li>\".format(name, status)\n",
    "    message += \"</ul>\"\n",
    "    return message\n",
    "def html_variable(core, project, variable):\n",
    "    value = variable.get_value(core, project)\n",
    "    metadata = variable.get_metadata(core)\n",
    "    name = metadata.title\n",
    "    units = metadata.units\n",
    "    message = \"<b>{}:</b> {}\".format(name, value)\n",
    "    if units:\n",
    "        message += \" ({})\".format(units[0])\n",
    "    return message"
   ]
  },
  {
   "cell_type": "markdown",
   "metadata": {},
   "source": [
    "## Create the core, menus and pipeline tree\n",
    "\n",
    "The core object carrys all the system information and is operated on by the other classes"
   ]
  },
  {
   "cell_type": "code",
   "execution_count": null,
   "metadata": {},
   "outputs": [],
   "source": [
    "new_core = Core()\n",
    "project_menu = ProjectMenu()\n",
    "module_menu = ModuleMenu()\n",
    "theme_menu = ThemeMenu()\n",
    "data_menu = DataMenu()\n",
    "pipe_tree = Tree()"
   ]
  },
  {
   "cell_type": "markdown",
   "metadata": {},
   "source": [
    "## Create a new project and tree"
   ]
  },
  {
   "cell_type": "code",
   "execution_count": null,
   "metadata": {},
   "outputs": [],
   "source": [
    "project_title = \"DTOcean\"  \n",
    "new_project = project_menu.new_project(new_core, project_title)"
   ]
  },
  {
   "cell_type": "markdown",
   "metadata": {},
   "source": [
    "## Set the device type"
   ]
  },
  {
   "cell_type": "code",
   "execution_count": null,
   "metadata": {},
   "outputs": [],
   "source": [
    "options_branch = pipe_tree.get_branch(new_core, new_project, \"System Type Selection\")\n",
    "variable_id = \"device.system_type\"\n",
    "my_var = options_branch.get_input_variable(new_core, new_project, variable_id)\n",
    "my_var.set_raw_interface(new_core, \"Wave Floating\")\n",
    "my_var.read(new_core, new_project)"
   ]
  },
  {
   "cell_type": "markdown",
   "metadata": {},
   "source": [
    "## Initiate the pipeline\n",
    "This step will be important when the database is incorporated into the system as it will effect the operation of the pipeline."
   ]
  },
  {
   "cell_type": "code",
   "execution_count": null,
   "metadata": {},
   "outputs": [],
   "source": [
    "project_menu.initiate_pipeline(new_core, new_project)"
   ]
  },
  {
   "cell_type": "markdown",
   "metadata": {},
   "source": [
    "## Discover available modules"
   ]
  },
  {
   "cell_type": "code",
   "execution_count": null,
   "metadata": {},
   "outputs": [],
   "source": [
    "names = module_menu.get_available(new_core, new_project)\n",
    "message = html_list(names)\n",
    "HTML(message)"
   ]
  },
  {
   "cell_type": "markdown",
   "metadata": {},
   "source": [
    "## Activate some modules\n",
    "\n",
    "Note that the order of activation is important and that we can't deactivate yet!"
   ]
  },
  {
   "cell_type": "code",
   "execution_count": null,
   "metadata": {},
   "outputs": [],
   "source": [
    "module_menu.activate(new_core, new_project, 'Hydrodynamics')\n",
    "module_menu.activate(new_core, new_project, 'Electrical Sub-Systems')\n",
    "module_menu.activate(new_core, new_project, 'Mooring and Foundations')"
   ]
  },
  {
   "cell_type": "markdown",
   "metadata": {
    "collapsed": true
   },
   "source": [
    "## Activate the Economics and Reliability themes"
   ]
  },
  {
   "cell_type": "code",
   "execution_count": null,
   "metadata": {},
   "outputs": [],
   "source": [
    "names = theme_menu.get_available(new_core, new_project)\n",
    "message = html_list(names)\n",
    "HTML(message)"
   ]
  },
  {
   "cell_type": "code",
   "execution_count": null,
   "metadata": {},
   "outputs": [],
   "source": [
    "theme_menu.activate(new_core, new_project, \"Economics\")"
   ]
  },
  {
   "cell_type": "code",
   "execution_count": null,
   "metadata": {},
   "outputs": [],
   "source": [
    "# Here we are expecting Hydrodynamics\n",
    "assert _get_connector(new_project, \"modules\").get_current_interface_name(new_core, new_project) == \"Hydrodynamics\""
   ]
  },
  {
   "cell_type": "code",
   "execution_count": null,
   "metadata": {},
   "outputs": [],
   "source": [
    "from aneris.utilities.analysis import get_variable_network, count_atomic_variables"
   ]
  },
  {
   "cell_type": "code",
   "execution_count": null,
   "metadata": {},
   "outputs": [],
   "source": [
    "req_inputs, opt_inputs, outputs, req_inter, opt_inter = get_variable_network(new_core.control,\n",
    "                                                                             new_project.get_pool(),\n",
    "                                                                             new_project.get_simulation(),\n",
    "                                                                             \"modules\")"
   ]
  },
  {
   "cell_type": "code",
   "execution_count": null,
   "metadata": {},
   "outputs": [],
   "source": [
    "req_inputs[req_inputs.Type==\"Shared\"].reset_index()"
   ]
  },
  {
   "cell_type": "code",
   "execution_count": null,
   "metadata": {},
   "outputs": [],
   "source": [
    "shared_req_inputs = req_inputs[req_inputs.Type==\"Shared\"]\n",
    "len(shared_req_inputs[\"Identifier\"].unique())"
   ]
  },
  {
   "cell_type": "code",
   "execution_count": null,
   "metadata": {},
   "outputs": [],
   "source": [
    "count_atomic_variables(shared_req_inputs[\"Identifier\"].unique(),\n",
    "                       new_core.data_catalog,\n",
    "                       \"labels\",\n",
    "                       [\"TableData\",\n",
    "                        \"TableDataColumn\",\n",
    "                        \"IndexTable\",\n",
    "                        \"LineTable\",\n",
    "                        \"LineTableColumn\",\n",
    "                        \"TimeTable\",\n",
    "                        \"TimeTableColumn\"])"
   ]
  },
  {
   "cell_type": "code",
   "execution_count": null,
   "metadata": {},
   "outputs": [],
   "source": [
    "opt_inputs[opt_inputs.Type==\"Shared\"].reset_index()"
   ]
  },
  {
   "cell_type": "code",
   "execution_count": null,
   "metadata": {},
   "outputs": [],
   "source": [
    "shared_opt_inputs = opt_inputs[opt_inputs.Type==\"Shared\"]\n",
    "len(shared_opt_inputs[\"Identifier\"].unique())"
   ]
  },
  {
   "cell_type": "code",
   "execution_count": null,
   "metadata": {},
   "outputs": [],
   "source": [
    "count_atomic_variables(shared_opt_inputs[\"Identifier\"].unique(),\n",
    "                       new_core.data_catalog,\n",
    "                       \"labels\",\n",
    "                       [\"TableData\",\n",
    "                        \"TableDataColumn\",\n",
    "                        \"IndexTable\",\n",
    "                        \"LineTable\",\n",
    "                        \"LineTableColumn\",\n",
    "                        \"TimeTable\",\n",
    "                        \"TimeTableColumn\"])"
   ]
  },
  {
   "cell_type": "code",
   "execution_count": null,
   "metadata": {},
   "outputs": [],
   "source": [
    "req_inter"
   ]
  },
  {
   "cell_type": "code",
   "execution_count": null,
   "metadata": {},
   "outputs": [],
   "source": [
    "len(req_inter[\"Identifier\"].unique())"
   ]
  },
  {
   "cell_type": "code",
   "execution_count": null,
   "metadata": {},
   "outputs": [],
   "source": [
    "count_atomic_variables(req_inter[\"Identifier\"].unique(),\n",
    "                       new_core.data_catalog,\n",
    "                       \"labels\",\n",
    "                       [\"TableData\",\n",
    "                        \"TableDataColumn\",\n",
    "                        \"IndexTable\",\n",
    "                        \"LineTable\",\n",
    "                        \"LineTableColumn\",\n",
    "                        \"TimeTable\",\n",
    "                        \"TimeTableColumn\"])"
   ]
  },
  {
   "cell_type": "code",
   "execution_count": null,
   "metadata": {},
   "outputs": [],
   "source": [
    "opt_inter"
   ]
  },
  {
   "cell_type": "code",
   "execution_count": null,
   "metadata": {},
   "outputs": [],
   "source": [
    "len(opt_inter[\"Identifier\"].unique())"
   ]
  },
  {
   "cell_type": "code",
   "execution_count": null,
   "metadata": {},
   "outputs": [],
   "source": [
    "count_atomic_variables(opt_inter[\"Identifier\"].unique(),\n",
    "                       new_core.data_catalog,\n",
    "                       \"labels\",\n",
    "                       [\"TableData\",\n",
    "                        \"TableDataColumn\",\n",
    "                        \"IndexTable\",\n",
    "                        \"LineTable\",\n",
    "                        \"LineTableColumn\",\n",
    "                        \"TimeTable\",\n",
    "                        \"TimeTableColumn\"])"
   ]
  },
  {
   "cell_type": "code",
   "execution_count": null,
   "metadata": {},
   "outputs": [],
   "source": [
    "hyrdo_req_inputs = req_inputs.loc[req_inputs['Interface'] == 'Hydrodynamics']\n",
    "len(hyrdo_req_inputs[\"Identifier\"].unique())"
   ]
  },
  {
   "cell_type": "code",
   "execution_count": null,
   "metadata": {},
   "outputs": [],
   "source": [
    "count_atomic_variables(hyrdo_req_inputs[\"Identifier\"].unique(),\n",
    "                       new_core.data_catalog,\n",
    "                       \"labels\",\n",
    "                       [\"TableData\",\n",
    "                        \"TableDataColumn\",\n",
    "                        \"IndexTable\",\n",
    "                        \"LineTable\",\n",
    "                        \"LineTableColumn\",\n",
    "                        \"TimeTable\",\n",
    "                        \"TimeTableColumn\"])"
   ]
  },
  {
   "cell_type": "code",
   "execution_count": null,
   "metadata": {},
   "outputs": [],
   "source": [
    "hyrdo_opt_inputs = opt_inputs.loc[opt_inputs['Interface'] == 'Hydrodynamics']\n",
    "len(hyrdo_opt_inputs[\"Identifier\"].unique())"
   ]
  },
  {
   "cell_type": "code",
   "execution_count": null,
   "metadata": {},
   "outputs": [],
   "source": [
    "count_atomic_variables(hyrdo_opt_inputs[\"Identifier\"].unique(),\n",
    "                       new_core.data_catalog,\n",
    "                       \"labels\",\n",
    "                       [\"TableData\",\n",
    "                        \"TableDataColumn\",\n",
    "                        \"IndexTable\",\n",
    "                        \"LineTable\",\n",
    "                        \"LineTableColumn\",\n",
    "                        \"TimeTable\",\n",
    "                        \"TimeTableColumn\"])"
   ]
  },
  {
   "cell_type": "code",
   "execution_count": null,
   "metadata": {},
   "outputs": [],
   "source": [
    "electro_req_inputs = req_inputs.loc[req_inputs['Interface'] == 'Electrical Sub-Systems']\n",
    "len(electro_req_inputs[\"Identifier\"].unique())"
   ]
  },
  {
   "cell_type": "code",
   "execution_count": null,
   "metadata": {},
   "outputs": [],
   "source": [
    "count_atomic_variables(electro_req_inputs[\"Identifier\"].unique(),\n",
    "                       new_core.data_catalog,\n",
    "                       \"labels\",\n",
    "                       [\"TableData\",\n",
    "                        \"TableDataColumn\",\n",
    "                        \"IndexTable\",\n",
    "                        \"LineTable\",\n",
    "                        \"LineTableColumn\",\n",
    "                        \"TimeTable\",\n",
    "                        \"TimeTableColumn\"])"
   ]
  },
  {
   "cell_type": "code",
   "execution_count": null,
   "metadata": {},
   "outputs": [],
   "source": [
    "electro_opt_inputs = opt_inputs.loc[opt_inputs['Interface'] == 'Electrical Sub-Systems']\n",
    "len(electro_opt_inputs[\"Identifier\"].unique())"
   ]
  },
  {
   "cell_type": "code",
   "execution_count": null,
   "metadata": {},
   "outputs": [],
   "source": [
    "count_atomic_variables(electro_opt_inputs[\"Identifier\"].unique(),\n",
    "                       new_core.data_catalog,\n",
    "                       \"labels\",\n",
    "                       [\"TableData\",\n",
    "                        \"TableDataColumn\",\n",
    "                        \"IndexTable\",\n",
    "                        \"LineTable\",\n",
    "                        \"LineTableColumn\",\n",
    "                        \"TimeTable\",\n",
    "                        \"TimeTableColumn\"])"
   ]
  },
  {
   "cell_type": "code",
   "execution_count": null,
   "metadata": {},
   "outputs": [],
   "source": [
    "moorings_req_inputs = req_inputs.loc[req_inputs['Interface'] == 'Mooring and Foundations']\n",
    "len(moorings_req_inputs[\"Identifier\"].unique())"
   ]
  },
  {
   "cell_type": "code",
   "execution_count": null,
   "metadata": {},
   "outputs": [],
   "source": [
    "count_atomic_variables(moorings_req_inputs[\"Identifier\"].unique(),\n",
    "                       new_core.data_catalog,\n",
    "                       \"labels\",\n",
    "                       [\"TableData\",\n",
    "                        \"TableDataColumn\",\n",
    "                        \"IndexTable\",\n",
    "                        \"LineTable\",\n",
    "                        \"LineTableColumn\",\n",
    "                        \"TimeTable\",\n",
    "                        \"TimeTableColumn\"])"
   ]
  },
  {
   "cell_type": "code",
   "execution_count": null,
   "metadata": {},
   "outputs": [],
   "source": [
    "moorings_opt_inputs = opt_inputs.loc[opt_inputs['Interface'] == 'Mooring and Foundations']\n",
    "len(moorings_opt_inputs[\"Identifier\"].unique())"
   ]
  },
  {
   "cell_type": "code",
   "execution_count": null,
   "metadata": {},
   "outputs": [],
   "source": [
    "count_atomic_variables(moorings_opt_inputs[\"Identifier\"].unique(),\n",
    "                       new_core.data_catalog,\n",
    "                       \"labels\",\n",
    "                       [\"TableData\",\n",
    "                        \"TableDataColumn\",\n",
    "                        \"IndexTable\",\n",
    "                        \"LineTable\",\n",
    "                        \"LineTableColumn\",\n",
    "                        \"TimeTable\",\n",
    "                        \"TimeTableColumn\"])"
   ]
  },
  {
   "cell_type": "code",
   "execution_count": null,
   "metadata": {},
   "outputs": [],
   "source": [
    "total_req_inputs = req_inputs.loc[req_inputs['Interface'] != 'Shared']\n",
    "len(total_req_inputs[\"Identifier\"].unique())"
   ]
  },
  {
   "cell_type": "code",
   "execution_count": null,
   "metadata": {},
   "outputs": [],
   "source": [
    "count_atomic_variables(total_req_inputs[\"Identifier\"].unique(),\n",
    "                       new_core.data_catalog,\n",
    "                       \"labels\",\n",
    "                       [\"TableData\",\n",
    "                        \"TableDataColumn\",\n",
    "                        \"IndexTable\",\n",
    "                        \"LineTable\",\n",
    "                        \"LineTableColumn\",\n",
    "                        \"TimeTable\",\n",
    "                        \"TimeTableColumn\"])"
   ]
  },
  {
   "cell_type": "code",
   "execution_count": null,
   "metadata": {},
   "outputs": [],
   "source": []
  }
 ],
 "metadata": {
  "kernelspec": {
   "display_name": "Python 2",
   "language": "python",
   "name": "python2"
  },
  "language_info": {
   "codemirror_mode": {
    "name": "ipython",
    "version": 2
   },
   "file_extension": ".py",
   "mimetype": "text/x-python",
   "name": "python",
   "nbconvert_exporter": "python",
   "pygments_lexer": "ipython2",
   "version": "2.7.15"
  }
 },
 "nbformat": 4,
 "nbformat_minor": 1
}
